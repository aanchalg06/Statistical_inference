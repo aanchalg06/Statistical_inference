{
  "nbformat": 4,
  "nbformat_minor": 0,
  "metadata": {
    "colab": {
      "provenance": []
    },
    "kernelspec": {
      "name": "python3",
      "display_name": "Python 3"
    },
    "language_info": {
      "name": "python"
    }
  },
  "cells": [
    {
      "cell_type": "code",
      "execution_count": 2,
      "metadata": {
        "colab": {
          "base_uri": "https://localhost:8080/",
          "height": 814
        },
        "id": "U8_C5Ppa0prN",
        "outputId": "03bcaee6-c093-45a4-92c8-65282fe671d0"
      },
      "outputs": [
        {
          "output_type": "stream",
          "name": "stdout",
          "text": [
            "Collecting fitter\n",
            "  Downloading fitter-1.7.0-py3-none-any.whl (26 kB)\n",
            "Requirement already satisfied: click<9.0.0,>=8.1.6 in /usr/local/lib/python3.10/dist-packages (from fitter) (8.1.7)\n",
            "Requirement already satisfied: joblib<2.0.0,>=1.3.1 in /usr/local/lib/python3.10/dist-packages (from fitter) (1.4.0)\n",
            "Collecting loguru<0.8.0,>=0.7.2 (from fitter)\n",
            "  Downloading loguru-0.7.2-py3-none-any.whl (62 kB)\n",
            "\u001b[2K     \u001b[90m━━━━━━━━━━━━━━━━━━━━━━━━━━━━━━━━━━━━━━━━\u001b[0m \u001b[32m62.5/62.5 kB\u001b[0m \u001b[31m4.2 MB/s\u001b[0m eta \u001b[36m0:00:00\u001b[0m\n",
            "\u001b[?25hCollecting matplotlib<4.0.0,>=3.7.2 (from fitter)\n",
            "  Downloading matplotlib-3.8.4-cp310-cp310-manylinux_2_17_x86_64.manylinux2014_x86_64.whl (11.6 MB)\n",
            "\u001b[2K     \u001b[90m━━━━━━━━━━━━━━━━━━━━━━━━━━━━━━━━━━━━━━━━\u001b[0m \u001b[32m11.6/11.6 MB\u001b[0m \u001b[31m23.8 MB/s\u001b[0m eta \u001b[36m0:00:00\u001b[0m\n",
            "\u001b[?25hRequirement already satisfied: numpy<2.0.0,>=1.20.0 in /usr/local/lib/python3.10/dist-packages (from fitter) (1.25.2)\n",
            "Requirement already satisfied: pandas<3.0.0,>=0.23.4 in /usr/local/lib/python3.10/dist-packages (from fitter) (2.0.3)\n",
            "Collecting rich-click<2.0.0,>=1.7.2 (from fitter)\n",
            "  Downloading rich_click-1.7.4-py3-none-any.whl (32 kB)\n",
            "Requirement already satisfied: scipy<2.0.0,>=0.18.0 in /usr/local/lib/python3.10/dist-packages (from fitter) (1.11.4)\n",
            "Requirement already satisfied: tqdm<5.0.0,>=4.65.1 in /usr/local/lib/python3.10/dist-packages (from fitter) (4.66.2)\n",
            "Requirement already satisfied: contourpy>=1.0.1 in /usr/local/lib/python3.10/dist-packages (from matplotlib<4.0.0,>=3.7.2->fitter) (1.2.1)\n",
            "Requirement already satisfied: cycler>=0.10 in /usr/local/lib/python3.10/dist-packages (from matplotlib<4.0.0,>=3.7.2->fitter) (0.12.1)\n",
            "Requirement already satisfied: fonttools>=4.22.0 in /usr/local/lib/python3.10/dist-packages (from matplotlib<4.0.0,>=3.7.2->fitter) (4.51.0)\n",
            "Requirement already satisfied: kiwisolver>=1.3.1 in /usr/local/lib/python3.10/dist-packages (from matplotlib<4.0.0,>=3.7.2->fitter) (1.4.5)\n",
            "Requirement already satisfied: packaging>=20.0 in /usr/local/lib/python3.10/dist-packages (from matplotlib<4.0.0,>=3.7.2->fitter) (24.0)\n",
            "Requirement already satisfied: pillow>=8 in /usr/local/lib/python3.10/dist-packages (from matplotlib<4.0.0,>=3.7.2->fitter) (9.4.0)\n",
            "Requirement already satisfied: pyparsing>=2.3.1 in /usr/local/lib/python3.10/dist-packages (from matplotlib<4.0.0,>=3.7.2->fitter) (3.1.2)\n",
            "Requirement already satisfied: python-dateutil>=2.7 in /usr/local/lib/python3.10/dist-packages (from matplotlib<4.0.0,>=3.7.2->fitter) (2.8.2)\n",
            "Requirement already satisfied: pytz>=2020.1 in /usr/local/lib/python3.10/dist-packages (from pandas<3.0.0,>=0.23.4->fitter) (2023.4)\n",
            "Requirement already satisfied: tzdata>=2022.1 in /usr/local/lib/python3.10/dist-packages (from pandas<3.0.0,>=0.23.4->fitter) (2024.1)\n",
            "Requirement already satisfied: rich>=10.7.0 in /usr/local/lib/python3.10/dist-packages (from rich-click<2.0.0,>=1.7.2->fitter) (13.7.1)\n",
            "Requirement already satisfied: typing-extensions in /usr/local/lib/python3.10/dist-packages (from rich-click<2.0.0,>=1.7.2->fitter) (4.11.0)\n",
            "Requirement already satisfied: six>=1.5 in /usr/local/lib/python3.10/dist-packages (from python-dateutil>=2.7->matplotlib<4.0.0,>=3.7.2->fitter) (1.16.0)\n",
            "Requirement already satisfied: markdown-it-py>=2.2.0 in /usr/local/lib/python3.10/dist-packages (from rich>=10.7.0->rich-click<2.0.0,>=1.7.2->fitter) (3.0.0)\n",
            "Requirement already satisfied: pygments<3.0.0,>=2.13.0 in /usr/local/lib/python3.10/dist-packages (from rich>=10.7.0->rich-click<2.0.0,>=1.7.2->fitter) (2.16.1)\n",
            "Requirement already satisfied: mdurl~=0.1 in /usr/local/lib/python3.10/dist-packages (from markdown-it-py>=2.2.0->rich>=10.7.0->rich-click<2.0.0,>=1.7.2->fitter) (0.1.2)\n",
            "Installing collected packages: loguru, matplotlib, rich-click, fitter\n",
            "  Attempting uninstall: matplotlib\n",
            "    Found existing installation: matplotlib 3.7.1\n",
            "    Uninstalling matplotlib-3.7.1:\n",
            "      Successfully uninstalled matplotlib-3.7.1\n",
            "Successfully installed fitter-1.7.0 loguru-0.7.2 matplotlib-3.8.4 rich-click-1.7.4\n"
          ]
        },
        {
          "output_type": "display_data",
          "data": {
            "application/vnd.colab-display-data+json": {
              "pip_warning": {
                "packages": [
                  "matplotlib",
                  "mpl_toolkits"
                ]
              },
              "id": "3d05086386af49c3965e266bab6950cb"
            }
          },
          "metadata": {}
        }
      ],
      "source": [
        "!pip install fitter"
      ]
    },
    {
      "cell_type": "code",
      "source": [
        "import numpy as np\n",
        "import pandas as pd\n",
        "import seaborn as sns\n",
        "import scipy.stats as st\n",
        "import matplotlib.pyplot as plt\n",
        "from fitter import Fitter, get_common_distributions, get_distributions\n",
        "\n",
        "dataset = pd.read_csv(\"si_data.csv\")\n",
        "x_values = dataset[\"x\"].values\n",
        "f = Fitter(x_values, distributions=[\"gamma\",\"lognorm\",\"beta\",\"norm\",\"exponnorm\"])\n",
        "f.fit()\n",
        "f.summary()"
      ],
      "metadata": {
        "id": "ZZdA5xLk0sci",
        "colab": {
          "base_uri": "https://localhost:8080/",
          "height": 740
        },
        "outputId": "12b067db-34ea-4863-d0e1-5445aaf87103"
      },
      "execution_count": 45,
      "outputs": [
        {
          "output_type": "stream",
          "name": "stderr",
          "text": [
            "\u001b[32m2024-04-26 15:03:50.405\u001b[0m | \u001b[1mINFO    \u001b[0m | \u001b[36mfitter.fitter\u001b[0m:\u001b[36m_fit_single_distribution\u001b[0m:\u001b[36m337\u001b[0m - \u001b[1mFitted lognorm distribution with error=1.748383)\u001b[0m\n",
            "\u001b[32m2024-04-26 15:03:50.476\u001b[0m | \u001b[1mINFO    \u001b[0m | \u001b[36mfitter.fitter\u001b[0m:\u001b[36m_fit_single_distribution\u001b[0m:\u001b[36m337\u001b[0m - \u001b[1mFitted gamma distribution with error=1.105556)\u001b[0m\n",
            "\u001b[32m2024-04-26 15:03:50.495\u001b[0m | \u001b[1mINFO    \u001b[0m | \u001b[36mfitter.fitter\u001b[0m:\u001b[36m_fit_single_distribution\u001b[0m:\u001b[36m337\u001b[0m - \u001b[1mFitted norm distribution with error=9.795834)\u001b[0m\n",
            "\u001b[32m2024-04-26 15:03:50.590\u001b[0m | \u001b[1mINFO    \u001b[0m | \u001b[36mfitter.fitter\u001b[0m:\u001b[36m_fit_single_distribution\u001b[0m:\u001b[36m337\u001b[0m - \u001b[1mFitted beta distribution with error=1.118372)\u001b[0m\n",
            "\u001b[32m2024-04-26 15:03:50.713\u001b[0m | \u001b[1mINFO    \u001b[0m | \u001b[36mfitter.fitter\u001b[0m:\u001b[36m_fit_single_distribution\u001b[0m:\u001b[36m337\u001b[0m - \u001b[1mFitted exponnorm distribution with error=1.301854)\u001b[0m\n"
          ]
        },
        {
          "output_type": "execute_result",
          "data": {
            "text/plain": [
              "           sumsquare_error         aic         bic  kl_div  ks_statistic  \\\n",
              "gamma             1.105556  458.210727  472.933992     inf      0.020555   \n",
              "beta              1.118372  461.809855  481.440876     inf      0.020617   \n",
              "exponnorm         1.301854  450.458969  465.182235     inf      0.034759   \n",
              "lognorm           1.748383  447.795168  462.518434     inf      0.028653   \n",
              "norm              9.795834  736.382520  746.198031     inf      0.148349   \n",
              "\n",
              "              ks_pvalue  \n",
              "gamma      7.839204e-01  \n",
              "beta       7.808633e-01  \n",
              "exponnorm  1.742589e-01  \n",
              "lognorm    3.772869e-01  \n",
              "norm       1.127344e-19  "
            ],
            "text/html": [
              "\n",
              "  <div id=\"df-db5660d4-9c4a-497f-8a7e-51a4f9cd3991\" class=\"colab-df-container\">\n",
              "    <div>\n",
              "<style scoped>\n",
              "    .dataframe tbody tr th:only-of-type {\n",
              "        vertical-align: middle;\n",
              "    }\n",
              "\n",
              "    .dataframe tbody tr th {\n",
              "        vertical-align: top;\n",
              "    }\n",
              "\n",
              "    .dataframe thead th {\n",
              "        text-align: right;\n",
              "    }\n",
              "</style>\n",
              "<table border=\"1\" class=\"dataframe\">\n",
              "  <thead>\n",
              "    <tr style=\"text-align: right;\">\n",
              "      <th></th>\n",
              "      <th>sumsquare_error</th>\n",
              "      <th>aic</th>\n",
              "      <th>bic</th>\n",
              "      <th>kl_div</th>\n",
              "      <th>ks_statistic</th>\n",
              "      <th>ks_pvalue</th>\n",
              "    </tr>\n",
              "  </thead>\n",
              "  <tbody>\n",
              "    <tr>\n",
              "      <th>gamma</th>\n",
              "      <td>1.105556</td>\n",
              "      <td>458.210727</td>\n",
              "      <td>472.933992</td>\n",
              "      <td>inf</td>\n",
              "      <td>0.020555</td>\n",
              "      <td>7.839204e-01</td>\n",
              "    </tr>\n",
              "    <tr>\n",
              "      <th>beta</th>\n",
              "      <td>1.118372</td>\n",
              "      <td>461.809855</td>\n",
              "      <td>481.440876</td>\n",
              "      <td>inf</td>\n",
              "      <td>0.020617</td>\n",
              "      <td>7.808633e-01</td>\n",
              "    </tr>\n",
              "    <tr>\n",
              "      <th>exponnorm</th>\n",
              "      <td>1.301854</td>\n",
              "      <td>450.458969</td>\n",
              "      <td>465.182235</td>\n",
              "      <td>inf</td>\n",
              "      <td>0.034759</td>\n",
              "      <td>1.742589e-01</td>\n",
              "    </tr>\n",
              "    <tr>\n",
              "      <th>lognorm</th>\n",
              "      <td>1.748383</td>\n",
              "      <td>447.795168</td>\n",
              "      <td>462.518434</td>\n",
              "      <td>inf</td>\n",
              "      <td>0.028653</td>\n",
              "      <td>3.772869e-01</td>\n",
              "    </tr>\n",
              "    <tr>\n",
              "      <th>norm</th>\n",
              "      <td>9.795834</td>\n",
              "      <td>736.382520</td>\n",
              "      <td>746.198031</td>\n",
              "      <td>inf</td>\n",
              "      <td>0.148349</td>\n",
              "      <td>1.127344e-19</td>\n",
              "    </tr>\n",
              "  </tbody>\n",
              "</table>\n",
              "</div>\n",
              "    <div class=\"colab-df-buttons\">\n",
              "\n",
              "  <div class=\"colab-df-container\">\n",
              "    <button class=\"colab-df-convert\" onclick=\"convertToInteractive('df-db5660d4-9c4a-497f-8a7e-51a4f9cd3991')\"\n",
              "            title=\"Convert this dataframe to an interactive table.\"\n",
              "            style=\"display:none;\">\n",
              "\n",
              "  <svg xmlns=\"http://www.w3.org/2000/svg\" height=\"24px\" viewBox=\"0 -960 960 960\">\n",
              "    <path d=\"M120-120v-720h720v720H120Zm60-500h600v-160H180v160Zm220 220h160v-160H400v160Zm0 220h160v-160H400v160ZM180-400h160v-160H180v160Zm440 0h160v-160H620v160ZM180-180h160v-160H180v160Zm440 0h160v-160H620v160Z\"/>\n",
              "  </svg>\n",
              "    </button>\n",
              "\n",
              "  <style>\n",
              "    .colab-df-container {\n",
              "      display:flex;\n",
              "      gap: 12px;\n",
              "    }\n",
              "\n",
              "    .colab-df-convert {\n",
              "      background-color: #E8F0FE;\n",
              "      border: none;\n",
              "      border-radius: 50%;\n",
              "      cursor: pointer;\n",
              "      display: none;\n",
              "      fill: #1967D2;\n",
              "      height: 32px;\n",
              "      padding: 0 0 0 0;\n",
              "      width: 32px;\n",
              "    }\n",
              "\n",
              "    .colab-df-convert:hover {\n",
              "      background-color: #E2EBFA;\n",
              "      box-shadow: 0px 1px 2px rgba(60, 64, 67, 0.3), 0px 1px 3px 1px rgba(60, 64, 67, 0.15);\n",
              "      fill: #174EA6;\n",
              "    }\n",
              "\n",
              "    .colab-df-buttons div {\n",
              "      margin-bottom: 4px;\n",
              "    }\n",
              "\n",
              "    [theme=dark] .colab-df-convert {\n",
              "      background-color: #3B4455;\n",
              "      fill: #D2E3FC;\n",
              "    }\n",
              "\n",
              "    [theme=dark] .colab-df-convert:hover {\n",
              "      background-color: #434B5C;\n",
              "      box-shadow: 0px 1px 3px 1px rgba(0, 0, 0, 0.15);\n",
              "      filter: drop-shadow(0px 1px 2px rgba(0, 0, 0, 0.3));\n",
              "      fill: #FFFFFF;\n",
              "    }\n",
              "  </style>\n",
              "\n",
              "    <script>\n",
              "      const buttonEl =\n",
              "        document.querySelector('#df-db5660d4-9c4a-497f-8a7e-51a4f9cd3991 button.colab-df-convert');\n",
              "      buttonEl.style.display =\n",
              "        google.colab.kernel.accessAllowed ? 'block' : 'none';\n",
              "\n",
              "      async function convertToInteractive(key) {\n",
              "        const element = document.querySelector('#df-db5660d4-9c4a-497f-8a7e-51a4f9cd3991');\n",
              "        const dataTable =\n",
              "          await google.colab.kernel.invokeFunction('convertToInteractive',\n",
              "                                                    [key], {});\n",
              "        if (!dataTable) return;\n",
              "\n",
              "        const docLinkHtml = 'Like what you see? Visit the ' +\n",
              "          '<a target=\"_blank\" href=https://colab.research.google.com/notebooks/data_table.ipynb>data table notebook</a>'\n",
              "          + ' to learn more about interactive tables.';\n",
              "        element.innerHTML = '';\n",
              "        dataTable['output_type'] = 'display_data';\n",
              "        await google.colab.output.renderOutput(dataTable, element);\n",
              "        const docLink = document.createElement('div');\n",
              "        docLink.innerHTML = docLinkHtml;\n",
              "        element.appendChild(docLink);\n",
              "      }\n",
              "    </script>\n",
              "  </div>\n",
              "\n",
              "\n",
              "<div id=\"df-ef31fee3-5675-45a4-8a5a-9dca58eab592\">\n",
              "  <button class=\"colab-df-quickchart\" onclick=\"quickchart('df-ef31fee3-5675-45a4-8a5a-9dca58eab592')\"\n",
              "            title=\"Suggest charts\"\n",
              "            style=\"display:none;\">\n",
              "\n",
              "<svg xmlns=\"http://www.w3.org/2000/svg\" height=\"24px\"viewBox=\"0 0 24 24\"\n",
              "     width=\"24px\">\n",
              "    <g>\n",
              "        <path d=\"M19 3H5c-1.1 0-2 .9-2 2v14c0 1.1.9 2 2 2h14c1.1 0 2-.9 2-2V5c0-1.1-.9-2-2-2zM9 17H7v-7h2v7zm4 0h-2V7h2v10zm4 0h-2v-4h2v4z\"/>\n",
              "    </g>\n",
              "</svg>\n",
              "  </button>\n",
              "\n",
              "<style>\n",
              "  .colab-df-quickchart {\n",
              "      --bg-color: #E8F0FE;\n",
              "      --fill-color: #1967D2;\n",
              "      --hover-bg-color: #E2EBFA;\n",
              "      --hover-fill-color: #174EA6;\n",
              "      --disabled-fill-color: #AAA;\n",
              "      --disabled-bg-color: #DDD;\n",
              "  }\n",
              "\n",
              "  [theme=dark] .colab-df-quickchart {\n",
              "      --bg-color: #3B4455;\n",
              "      --fill-color: #D2E3FC;\n",
              "      --hover-bg-color: #434B5C;\n",
              "      --hover-fill-color: #FFFFFF;\n",
              "      --disabled-bg-color: #3B4455;\n",
              "      --disabled-fill-color: #666;\n",
              "  }\n",
              "\n",
              "  .colab-df-quickchart {\n",
              "    background-color: var(--bg-color);\n",
              "    border: none;\n",
              "    border-radius: 50%;\n",
              "    cursor: pointer;\n",
              "    display: none;\n",
              "    fill: var(--fill-color);\n",
              "    height: 32px;\n",
              "    padding: 0;\n",
              "    width: 32px;\n",
              "  }\n",
              "\n",
              "  .colab-df-quickchart:hover {\n",
              "    background-color: var(--hover-bg-color);\n",
              "    box-shadow: 0 1px 2px rgba(60, 64, 67, 0.3), 0 1px 3px 1px rgba(60, 64, 67, 0.15);\n",
              "    fill: var(--button-hover-fill-color);\n",
              "  }\n",
              "\n",
              "  .colab-df-quickchart-complete:disabled,\n",
              "  .colab-df-quickchart-complete:disabled:hover {\n",
              "    background-color: var(--disabled-bg-color);\n",
              "    fill: var(--disabled-fill-color);\n",
              "    box-shadow: none;\n",
              "  }\n",
              "\n",
              "  .colab-df-spinner {\n",
              "    border: 2px solid var(--fill-color);\n",
              "    border-color: transparent;\n",
              "    border-bottom-color: var(--fill-color);\n",
              "    animation:\n",
              "      spin 1s steps(1) infinite;\n",
              "  }\n",
              "\n",
              "  @keyframes spin {\n",
              "    0% {\n",
              "      border-color: transparent;\n",
              "      border-bottom-color: var(--fill-color);\n",
              "      border-left-color: var(--fill-color);\n",
              "    }\n",
              "    20% {\n",
              "      border-color: transparent;\n",
              "      border-left-color: var(--fill-color);\n",
              "      border-top-color: var(--fill-color);\n",
              "    }\n",
              "    30% {\n",
              "      border-color: transparent;\n",
              "      border-left-color: var(--fill-color);\n",
              "      border-top-color: var(--fill-color);\n",
              "      border-right-color: var(--fill-color);\n",
              "    }\n",
              "    40% {\n",
              "      border-color: transparent;\n",
              "      border-right-color: var(--fill-color);\n",
              "      border-top-color: var(--fill-color);\n",
              "    }\n",
              "    60% {\n",
              "      border-color: transparent;\n",
              "      border-right-color: var(--fill-color);\n",
              "    }\n",
              "    80% {\n",
              "      border-color: transparent;\n",
              "      border-right-color: var(--fill-color);\n",
              "      border-bottom-color: var(--fill-color);\n",
              "    }\n",
              "    90% {\n",
              "      border-color: transparent;\n",
              "      border-bottom-color: var(--fill-color);\n",
              "    }\n",
              "  }\n",
              "</style>\n",
              "\n",
              "  <script>\n",
              "    async function quickchart(key) {\n",
              "      const quickchartButtonEl =\n",
              "        document.querySelector('#' + key + ' button');\n",
              "      quickchartButtonEl.disabled = true;  // To prevent multiple clicks.\n",
              "      quickchartButtonEl.classList.add('colab-df-spinner');\n",
              "      try {\n",
              "        const charts = await google.colab.kernel.invokeFunction(\n",
              "            'suggestCharts', [key], {});\n",
              "      } catch (error) {\n",
              "        console.error('Error during call to suggestCharts:', error);\n",
              "      }\n",
              "      quickchartButtonEl.classList.remove('colab-df-spinner');\n",
              "      quickchartButtonEl.classList.add('colab-df-quickchart-complete');\n",
              "    }\n",
              "    (() => {\n",
              "      let quickchartButtonEl =\n",
              "        document.querySelector('#df-ef31fee3-5675-45a4-8a5a-9dca58eab592 button');\n",
              "      quickchartButtonEl.style.display =\n",
              "        google.colab.kernel.accessAllowed ? 'block' : 'none';\n",
              "    })();\n",
              "  </script>\n",
              "</div>\n",
              "\n",
              "    </div>\n",
              "  </div>\n"
            ],
            "application/vnd.google.colaboratory.intrinsic+json": {
              "type": "dataframe",
              "repr_error": "Out of range float values are not JSON compliant: inf"
            }
          },
          "metadata": {},
          "execution_count": 45
        },
        {
          "output_type": "display_data",
          "data": {
            "text/plain": [
              "<Figure size 640x480 with 1 Axes>"
            ],
            "image/png": "[encoded data removed]"
          },
          "metadata": {}
        }
      ]
    },
    {
      "cell_type": "code",
      "source": [
        "#variance and mean of data:\n",
        "\n",
        "sample_mean = x_values.mean()\n",
        "n=1000\n",
        "# Calculate the variance (Var(x))\n",
        "sample_variance = x_values.var()\n",
        "\n",
        "print(\"Expected Value (E(x)): \", sample_mean)\n",
        "print(\"Variance (Var(x)): \", sample_variance,\"\\n\")\n",
        "\n",
        "real_beta= sample_mean/sample_variance\n",
        "real_alpha= real_beta*sample_mean\n",
        "\n",
        "print(\"real_alpha: \",real_alpha)\n",
        "print(\"real_beta: \", real_beta,\"\\n\")"
      ],
      "metadata": {
        "colab": {
          "base_uri": "https://localhost:8080/"
        },
        "id": "jkrIYmdezR3m",
        "outputId": "b846902c-80cd-4ca3-ca1e-77ea296e3185"
      },
      "execution_count": 16,
      "outputs": [
        {
          "output_type": "stream",
          "name": "stdout",
          "text": [
            "Expected Value (E(x)):  0.5153913496179999\n",
            "Variance (Var(x)):  0.24355530261291858 \n",
            "\n",
            "real_alpha:  1.090628043862487\n",
            "real_beta:  2.1161163156324676 \n",
            "\n"
          ]
        }
      ]
    },
    {
      "cell_type": "code",
      "source": [
        "f.get_best()"
      ],
      "metadata": {
        "colab": {
          "base_uri": "https://localhost:8080/"
        },
        "id": "0sAuqKd92COA",
        "outputId": "89cefd1a-94ab-4e50-f0a2-e086a92b6e7d"
      },
      "execution_count": null,
      "outputs": [
        {
          "output_type": "execute_result",
          "data": {
            "text/plain": [
              "{'gamma': {'a': 1.0670699753054975,\n",
              "  'loc': 0.00031981962961966657,\n",
              "  'scale': 0.4826855809323884}}"
            ]
          },
          "metadata": {},
          "execution_count": 8
        }
      ]
    },
    {
      "cell_type": "code",
      "source": [
        "f.fitted_param[\"gamma\"]"
      ],
      "metadata": {
        "colab": {
          "base_uri": "https://localhost:8080/"
        },
        "id": "lqOUlfmW244h",
        "outputId": "612ce7c8-b76f-400c-f7b9-567b65d3273b"
      },
      "execution_count": null,
      "outputs": [
        {
          "output_type": "execute_result",
          "data": {
            "text/plain": [
              "(1.0670699753054975, 0.00031981962961966657, 0.4826855809323884)"
            ]
          },
          "metadata": {},
          "execution_count": 9
        }
      ]
    },
    {
      "cell_type": "code",
      "source": [
        "a=1.0670699753054975\n",
        "scale=0.4826855809323884\n",
        "print(a,\" :Shape_α\")\n",
        "print((1/scale),\" :Rate_β\\n\")\n",
        "\n",
        "Shape_α = a\n",
        "Rate_β = (1/scale)"
      ],
      "metadata": {
        "id": "eN9Mqa7f3Bre",
        "colab": {
          "base_uri": "https://localhost:8080/"
        },
        "outputId": "b7eecd1c-36c2-46c2-d236-99cfb201694c"
      },
      "execution_count": 12,
      "outputs": [
        {
          "output_type": "stream",
          "name": "stdout",
          "text": [
            "1.0670699753054975  :Shape_α\n",
            "2.0717420190351072  :Rate_β\n",
            "\n"
          ]
        }
      ]
    },
    {
      "cell_type": "code",
      "source": [
        "import pandas as pd\n",
        "\n",
        "data = pd.read_csv('si_data.csv')\n",
        "x_values = data['x']\n",
        "n = len(x_values)\n",
        "sum_xi_over_n = sum(x_values) / n\n",
        "sum_xi_square_over_n = sum(x**2 for x in x_values) / n\n",
        "\n",
        "print(\"Summation of xi/n: \", sum_xi_over_n)\n",
        "print(\"Summation of xi^2/n: \", sum_xi_square_over_n,\"\\n\")\n",
        "\n"
      ],
      "metadata": {
        "colab": {
          "base_uri": "https://localhost:8080/"
        },
        "id": "JMFPyDKoNdnT",
        "outputId": "6940ee41-2f87-4106-fd65-ea40dd65a8e9"
      },
      "execution_count": 20,
      "outputs": [
        {
          "output_type": "stream",
          "name": "stdout",
          "text": [
            "Summation of xi/n:  0.5153913496180004\n",
            "Summation of xi^2/n:  0.5091835458739824 \n",
            "\n"
          ]
        }
      ]
    },
    {
      "cell_type": "code",
      "source": [
        "#using MOM:\n",
        "M=sum_xi_square_over_n\n",
        "N=sum_xi_over_n\n",
        "\n",
        "mom_Rate_β= N/(M-(N*N))\n",
        "mom_Shape_α= N*mom_Rate_β\n",
        "\n",
        "print(\"mom_Rate_β: \",mom_Rate_β)\n",
        "print(\"mom_Shape_α: \",mom_Shape_α,\"\\n\")"
      ],
      "metadata": {
        "colab": {
          "base_uri": "https://localhost:8080/"
        },
        "id": "Lwtw8wST1Kj4",
        "outputId": "8c583141-7702-4c80-a100-89b8aad048e2"
      },
      "execution_count": 21,
      "outputs": [
        {
          "output_type": "stream",
          "name": "stdout",
          "text": [
            "mom_Rate_β:  2.11611631563247\n",
            "mom_Shape_α:  1.0906280438624891 \n",
            "\n"
          ]
        }
      ]
    },
    {
      "cell_type": "code",
      "source": [
        "#using MLE:\n",
        "import math\n",
        "\n",
        "log_product = sum(math.log(x) for x in x_values)\n",
        "\n",
        "log_alpha = math.log(sum_xi_over_n) - (log_product / n)\n",
        "\n",
        "mle_Shape_alpha = 1 / 2*log_alpha\n",
        "\n",
        "mle_Rate_beta = sum_xi_over_n / mle_Shape_alpha\n",
        "\n",
        "print(\"mle_Shape_alpha:\", mle_Shape_alpha)\n",
        "print(\"mle_Rate_beta:\", mle_Rate_beta)"
      ],
      "metadata": {
        "colab": {
          "base_uri": "https://localhost:8080/"
        },
        "id": "Yw0xiFs9SiIO",
        "outputId": "8c003a50-908d-4e34-d407-421e66bba6cb"
      },
      "execution_count": 24,
      "outputs": [
        {
          "output_type": "stream",
          "name": "stdout",
          "text": [
            "mle_Shape_alpha: 0.26569621394323284\n",
            "mle_Rate_beta: 1.9397767923336535\n"
          ]
        }
      ]
    },
    {
      "cell_type": "code",
      "source": [
        "#confidence intervals\n",
        "\n",
        "interval_1_lower= sample_mean -(2.576)*((sample_variance**0.5)/(n**0.5))\n",
        "interval_1_upper= sample_mean +(2.576)*((sample_variance**0.5)/(n**0.5))\n",
        "\n",
        "print(\"significance of 1%/0.01: \",interval_1_lower,\" to \",interval_1_upper)\n",
        "\n",
        "interval_2_lower= sample_mean -(1.96)*((sample_variance**0.5)/(n**0.5))\n",
        "interval_2_upper= sample_mean +(1.96)*((sample_variance**0.5)/(n**0.5))\n",
        "\n",
        "print(\"significance of 5%/0.05: \",interval_2_lower,\" to \",interval_2_upper)\n",
        "\n",
        "interval_3_lower= sample_mean -(1.645)*((sample_variance**0.5)/(n**0.5))\n",
        "interval_3_upper= sample_mean +(1.645)*((sample_variance**0.5)/(n**0.5))\n",
        "\n",
        "print(\"significance of 10%/0.1: \",interval_3_lower,\" to \",interval_3_upper)"
      ],
      "metadata": {
        "colab": {
          "base_uri": "https://localhost:8080/"
        },
        "id": "m3qdcgkGzkWP",
        "outputId": "9e0cf3eb-b625-402a-a670-a1e26c0712ae"
      },
      "execution_count": 18,
      "outputs": [
        {
          "output_type": "stream",
          "name": "stdout",
          "text": [
            "significance of 1%/0.01  0.4751896278669164  to  0.5555930713690834\n",
            "significance of 5%/0.05  0.4848030830682625  to  0.5459796161677374\n",
            "significance of 10%/0.1  0.4897190544780417  to  0.5410636447579582\n"
          ]
        }
      ]
    },
    {
      "cell_type": "code",
      "source": [
        "#Test hypothesis that the mean is equal to mean_0\n",
        "\n",
        "degree_freedom = n - 1\n",
        "mean_0 = 0.6\n",
        "significance_value = 0.05 #no value given in question\n",
        "error = sample_variance**0.5 / n**0.5\n",
        "test_t = (sample_mean - mean_0) / error\n",
        "p = 2 * st.t.sf(abs(test_t), degree_freedom)\n",
        "\n",
        "if p < significance_value:\n",
        "    print(\"The means differ a lot according to our significance value hence we reject it.\")\n",
        "else:\n",
        "    print(\"We don't reject as the difference is not much in means.\")"
      ],
      "metadata": {
        "colab": {
          "base_uri": "https://localhost:8080/"
        },
        "id": "RrwUIert15Sp",
        "outputId": "bae357b0-d8f6-4d07-b4cb-056a75b6fc27"
      },
      "execution_count": 38,
      "outputs": [
        {
          "output_type": "stream",
          "name": "stdout",
          "text": [
            "The means differ a lot according to our significance value hence we reject it.\n"
          ]
        }
      ]
    },
    {
      "cell_type": "code",
      "source": [
        "#Test hypothesis that variance is equal to variance_0\n",
        "\n",
        "variance_0 = 0.243\n",
        "test_chi = (n - 1) * sample_variance / variance_0\n",
        "p = 2 * (1 - st.chi2.cdf(test_chi,degree_freedom))\n",
        "\n",
        "if p < significance_value:\n",
        "    print(\"The variances differ a lot according to our significance value hence we reject it.\")\n",
        "else:\n",
        "    print(\"We don't reject as the difference is not much in variancese.\")"
      ],
      "metadata": {
        "colab": {
          "base_uri": "https://localhost:8080/"
        },
        "id": "LoRrW0LI5vdw",
        "outputId": "49ef2320-a44e-4fb0-8c3c-0da58d4ca39a"
      },
      "execution_count": 36,
      "outputs": [
        {
          "output_type": "stream",
          "name": "stdout",
          "text": [
            "We don't reject as the difference is not much in variances.\n"
          ]
        }
      ]
    },
    {
      "cell_type": "code",
      "source": [
        "#Perform goodness of fit to test the hypothesis that the distribution of the collected data is same as the gamma distribution\n",
        "gamma_parameter = {'a': 1.0670699753054975, 'loc': 0.00031981962961966657,\n",
        "                   'scale': 0.4826855809323884}\n",
        "expected_distribution = st.gamma(**gamma_parameter)\n",
        "test_ks, p = st.kstest(x_values, expected_distribution.cdf)\n",
        "\n",
        "if p < significance_value:\n",
        "    print(\"The distribution differ a lot according to our significance value hence we reject it.\")\n",
        "else:\n",
        "    print(\"We don't reject as the difference is not much in distributions.\")\n",
        "\n",
        "plt.hist(x_values,bins=100, density=True,alpha=0.5, color='b', label='Observed Data')\n",
        "x_line = np.linspace(0, np.max(x_values), 1000)\n",
        "plt.plot(x_line, expected_distribution.pdf(x_line), 'r-', lw=2, label='Expected Gamma Distn.')\n",
        "plt.xlabel('x')\n",
        "plt.ylabel('PDF')\n",
        "plt.title('Observed Data v/s Expected Gamma Distribution')\n",
        "plt.legend()\n",
        "plt.show()\n"
      ],
      "metadata": {
        "colab": {
          "base_uri": "https://localhost:8080/",
          "height": 520
        },
        "id": "jw5UNvJA8LvH",
        "outputId": "617fda02-2215-4962-c28d-0a2caacce4ff"
      },
      "execution_count": 81,
      "outputs": [
        {
          "output_type": "stream",
          "name": "stdout",
          "text": [
            "We don't reject as the difference is not much in distributions.\n"
          ]
        },
        {
          "output_type": "display_data",
          "data": {
            "text/plain": [
              "<Figure size 640x480 with 1 Axes>"
            ],
            "image/png": "[encoded data removed]"
          },
          "metadata": {}
        }
      ]
    }
  ]
}